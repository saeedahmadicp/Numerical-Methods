{
  "nbformat": 4,
  "nbformat_minor": 0,
  "metadata": {
    "kernelspec": {
      "display_name": "Python 3",
      "language": "python",
      "name": "python3"
    },
    "language_info": {
      "codemirror_mode": {
        "name": "ipython",
        "version": 3
      },
      "file_extension": ".py",
      "mimetype": "text/x-python",
      "name": "python",
      "nbconvert_exporter": "python",
      "pygments_lexer": "ipython3",
      "version": "3.8.5"
    },
    "colab": {
      "name": "NM_Assignment_4_Polynomial_Interpolation.ipynb",
      "provenance": [],
      "include_colab_link": true
    }
  },
  "cells": [
    {
      "cell_type": "markdown",
      "metadata": {
        "id": "view-in-github",
        "colab_type": "text"
      },
      "source": [
        "<a href=\"https://colab.research.google.com/github/saeedahmadicp/Numerical-Methods/blob/main/NM_Assignment_4_Polynomial_Interpolation.ipynb\" target=\"_parent\"><img src=\"https://colab.research.google.com/assets/colab-badge.svg\" alt=\"Open In Colab\"/></a>"
      ]
    },
    {
      "cell_type": "markdown",
      "metadata": {
        "id": "nbYXiR724QEm"
      },
      "source": [
        "# **Assignment 4 (Polynomial Interpolation)**\n",
        "\n",
        "## **Name: Saeed Ahmad**\n",
        "## **Department: DCIS(18-22)**\n",
        "## **Class No: 26**\n",
        "\n",
        "\n",
        "\n"
      ]
    },
    {
      "cell_type": "markdown",
      "metadata": {
        "id": "JrhG02Qk29Rn"
      },
      "source": [
        "# Langrange interpolation"
      ]
    },
    {
      "cell_type": "code",
      "metadata": {
        "id": "azd4wGn729Rt"
      },
      "source": [
        "from scipy.interpolate import lagrange\n",
        "from math import *\n",
        "import parser\n",
        "import numpy as np\n",
        "from numpy.polynomial.polynomial import Polynomial\n",
        "import matplotlib.pyplot as plt"
      ],
      "execution_count": null,
      "outputs": []
    },
    {
      "cell_type": "code",
      "metadata": {
        "id": "s0sp7rfa29Rv"
      },
      "source": [
        "def eq_value(eq, x):\n",
        "    return eval(parser.expr(eq).compile())"
      ],
      "execution_count": null,
      "outputs": []
    },
    {
      "cell_type": "code",
      "metadata": {
        "colab": {
          "base_uri": "https://localhost:8080/"
        },
        "id": "MPLm9cYC29Rw",
        "outputId": "4d8e2893-c292-4917-a098-85b5e82633e8"
      },
      "source": [
        "n_points = int(input(\"Enter number of points for lagrange polynomial: \"))\n",
        "y_option = int(input(\"Press 1 to input y-coordinates or press 2 to enter a function f(x): \"))\n",
        "\n",
        "if y_option == 2:\n",
        "    eq = input(\"Enter equation: \")\n",
        "\n",
        "x= []\n",
        "y = []\n",
        "\n",
        "for i in range(0, n_points):\n",
        "    x.append(float(input(f\"Enter x-coordinate of point {i+1}: \")))\n",
        "    \n",
        "    if y_option == 1:\n",
        "        y.append(float(input(f\"Enter y-coordinate of point {i+1}: \")))"
      ],
      "execution_count": null,
      "outputs": [
        {
          "name": "stdout",
          "output_type": "stream",
          "text": [
            "Enter number of points for lagrange polynomial: 4\n",
            "Press 1 to input y-coordinates or press 2 to enter a function f(x): 2\n",
            "Enter equation: x**3+4.001*x**2+4.002*x+1.101\n",
            "Enter x-coordinate of point 1: -0.5\n",
            "Enter x-coordinate of point 2: -0.25\n",
            "Enter x-coordinate of point 3: 0.25\n",
            "Enter x-coordinate of point 4: 0.5\n"
          ]
        }
      ]
    },
    {
      "cell_type": "code",
      "metadata": {
        "id": "YWZFJN9R29Ry"
      },
      "source": [
        "if y_option == 2:\n",
        "    for i in range(0, n_points):\n",
        "        y.append(float(eq_value(eq, x[i])))"
      ],
      "execution_count": null,
      "outputs": []
    },
    {
      "cell_type": "code",
      "metadata": {
        "colab": {
          "base_uri": "https://localhost:8080/"
        },
        "id": "CpTXHO1x29Rz",
        "outputId": "424a8c19-26b7-4687-c4af-3c17402abd27"
      },
      "source": [
        "lagrange_polynomials = []\n",
        "for i in range(2, n_points+1):\n",
        "    poly = lagrange(x[0:i], y[0:i])\n",
        "    coefficients = (Polynomial(poly).coef)\n",
        "    lagrange_polynomials.append(np.poly1d(coefficients))\n",
        "    print(f\"The lagrange polynomial for degree {i} is \\n{np.poly1d(coefficients)}\")\n",
        "    if i ==2:\n",
        "      eq = np.poly1d(coefficients)"
      ],
      "execution_count": null,
      "outputs": [
        {
          "output_type": "stream",
          "name": "stdout",
          "text": [
            "The lagrange polynomial for degree 2 is \n",
            " \n",
            "1.439 x + 0.6946\n",
            "The lagrange polynomial for degree 3 is \n",
            "       2\n",
            "3.501 x + 4.064 x + 1.132\n",
            "The lagrange polynomial for degree 4 is \n",
            "   3         2\n",
            "1 x + 4.001 x + 4.002 x + 1.101\n"
          ]
        }
      ]
    },
    {
      "cell_type": "code",
      "metadata": {
        "id": "d4mwLpLs29R0"
      },
      "source": [
        "x_values = np.linspace(0,1,10)\n",
        "fun_values = []\n",
        "predict_values = []\n",
        "\n",
        "for i in range(len(x_values)):\n",
        "    fun_values.append(float(eq_value(eq, x_values[i])))\n",
        "    \n",
        "for j in lagrange_polynomials:\n",
        "    values = []\n",
        "    for i in range(len(x_values)):\n",
        "        values.append(float(j(x_values[i])))\n",
        "    predict_values.append(values)"
      ],
      "execution_count": null,
      "outputs": []
    },
    {
      "cell_type": "code",
      "metadata": {
        "colab": {
          "base_uri": "https://localhost:8080/",
          "height": 278
        },
        "id": "Lk9PkTwB29R1",
        "outputId": "b75ad2c8-a1c7-4c8a-a116-1d688dd6a20e"
      },
      "source": [
        "plt.plot(fun_values,x_values, label='f(x)')\n",
        "plt.plot(predict_values[0], x_values, label='lagrange degree 1')\n",
        "plt.plot(predict_values[1], x_values, label='lagrange degree 2')\n",
        "plt.legend()\n",
        "plt.show()"
      ],
      "execution_count": null,
      "outputs": [
        {
          "output_type": "display_data",
          "data": {
            "image/png": "[encoded data removed]",
            "text/plain": [
              "<Figure size 432x288 with 1 Axes>"
            ]
          },
          "metadata": {
            "needs_background": "light"
          }
        }
      ]
    },
    {
      "cell_type": "markdown",
      "metadata": {
        "id": "kd7eijMY29R2"
      },
      "source": [
        "# Newton’s Divided-Difference"
      ]
    },
    {
      "cell_type": "code",
      "metadata": {
        "id": "UkWowQ8I29R3"
      },
      "source": [
        "import numpy as np\n",
        "import matplotlib.pyplot as plt\n",
        "\n",
        "plt.style.use('seaborn-poster')\n",
        "\n",
        "%matplotlib inline"
      ],
      "execution_count": null,
      "outputs": []
    },
    {
      "cell_type": "code",
      "metadata": {
        "id": "wgftQPul29R4"
      },
      "source": [
        "def divided_diff(x, y):\n",
        "    n = len(y)\n",
        "    coef = np.zeros([n, n])\n",
        "    # the first column is y\n",
        "    coef[:,0] = y\n",
        "    \n",
        "    for j in range(1,n):\n",
        "        for i in range(n-j):\n",
        "            coef[i][j] = \\\n",
        "           (coef[i+1][j-1] - coef[i][j-1]) / (x[i+j]-x[i])\n",
        "            \n",
        "    return coef\n",
        "\n",
        "def newton_poly(coef, x_data, x):\n",
        "    n = len(x_data) - 1 \n",
        "    p = coef[n]\n",
        "    for k in range(1,n+1):\n",
        "        p = coef[n-k] + (x -x_data[n-k])*p\n",
        "    return p"
      ],
      "execution_count": null,
      "outputs": []
    },
    {
      "cell_type": "code",
      "metadata": {
        "colab": {
          "base_uri": "https://localhost:8080/",
          "height": 296
        },
        "id": "zcCb4feh29R4",
        "outputId": "cad52813-7a54-459e-a665-e12f789736e5"
      },
      "source": [
        "x = np.array([0, 0.25, 0.5, 0.75])\n",
        "y = np.array([1, 1.64872, 2.71828, 4.48169])\n",
        "# get the divided difference coef\n",
        "a_s = divided_diff(x, y)[0, :]\n",
        "\n",
        "# evaluate on new data points\n",
        "x_new = np.arange(-5, 2.1, .1)\n",
        "y_new = newton_poly(a_s, x, x_new)\n",
        "\n",
        "plt.figure(figsize = (6, 4))\n",
        "plt.plot(x, y, 'bo')\n",
        "plt.plot(x_new, y_new)"
      ],
      "execution_count": null,
      "outputs": [
        {
          "output_type": "execute_result",
          "data": {
            "text/plain": [
              "[<matplotlib.lines.Line2D at 0x7ff4bbf85150>]"
            ]
          },
          "metadata": {},
          "execution_count": 18
        },
        {
          "output_type": "display_data",
          "data": {
            "image/png": "[encoded data removed]",
            "text/plain": [
              "<Figure size 432x288 with 1 Axes>"
            ]
          },
          "metadata": {
            "needs_background": "light"
          }
        }
      ]
    }
  ]
}