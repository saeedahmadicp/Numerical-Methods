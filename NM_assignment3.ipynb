{
  "cells": [
    {
      "cell_type": "markdown",
      "metadata": {
        "id": "view-in-github",
        "colab_type": "text"
      },
      "source": [
        "<a href=\"https://colab.research.google.com/github/saeedahmadicp/Numerical-Methods/blob/main/NM_assignment3.ipynb\" target=\"_parent\"><img src=\"https://colab.research.google.com/assets/colab-badge.svg\" alt=\"Open In Colab\"/></a>"
      ]
    },
    {
      "cell_type": "markdown",
      "id": "9499cda7",
      "metadata": {
        "id": "9499cda7"
      },
      "source": [
        "# Bisection Method"
      ]
    },
    {
      "cell_type": "code",
      "execution_count": null,
      "id": "fe2358d0",
      "metadata": {
        "id": "fe2358d0"
      },
      "outputs": [],
      "source": [
        "import math\n",
        "import matplotlib.pyplot as plt\n",
        "import numpy as np"
      ]
    },
    {
      "cell_type": "code",
      "execution_count": null,
      "id": "10d1a1f7",
      "metadata": {
        "id": "10d1a1f7"
      },
      "outputs": [],
      "source": [
        "def equation(x):\n",
        "    return math.sqrt(x) - math.cos(x)"
      ]
    },
    {
      "cell_type": "code",
      "execution_count": null,
      "id": "15e6d9da",
      "metadata": {
        "id": "15e6d9da"
      },
      "outputs": [],
      "source": [
        "def equation2(x):\n",
        "    return 2*(x**3)-(x**2)+(x)-1"
      ]
    },
    {
      "cell_type": "code",
      "execution_count": null,
      "id": "ddfd5249",
      "metadata": {
        "id": "ddfd5249"
      },
      "outputs": [],
      "source": [
        "def BisectionMethod(a,b,iterations, tolerance):\n",
        "    previous = 10000.000\n",
        "    indexes = []\n",
        "    Errors = []\n",
        "    Error = -1\n",
        "\n",
        "    for i in range(iterations):\n",
        "        \n",
        "        print(\"iterration: \", i+1)\n",
        "        value1 = equation(a)\n",
        "        value2 = equation(b)\n",
        "    \n",
        "        print(\"a: \", a, \", it's value: \", value1)\n",
        "        print(\"b: \", b, \", it's value: \", value2)\n",
        "        p = a + (b-a)/2\n",
        "    \n",
        "    \n",
        "        if(i != 0):\n",
        "            previous = value3\n",
        "            Error = abs(previous - equation(p))\n",
        "            Errors.append(Error)\n",
        "            indexes.append(i+1)\n",
        "            print(\"Error: \", Error)\n",
        "        \n",
        "       \n",
        "    \n",
        "        value3 = equation(p)\n",
        "        print(\"p: \", p, \", it's value: \", value3)\n",
        "    \n",
        "   \n",
        "        print(\"*************\")\n",
        "    \n",
        "    \n",
        "    \n",
        "            \n",
        "        if(value1 < 0 and value3 >0):\n",
        "            b= p\n",
        "        elif(value1 < 0 and value3 < 0):\n",
        "            a = p\n",
        "        elif(value2 < 0 and value3 > 0):\n",
        "            a = b\n",
        "            b = p\n",
        "        elif(value2 < 0 and value3 < 0):\n",
        "            if(value2 < value3):\n",
        "                b = p\n",
        "        \n",
        "        if(i != 0):\n",
        "            if(Error <= tolerance):\n",
        "                print(p)\n",
        "                print(\"The value is converged!, which is: \", value3)\n",
        "                break\n",
        "   \n",
        "    plt.plot(indexes, Errors)\n",
        "    plt.xlabel(\"Number of Iterations\")\n",
        "    plt.ylabel(\"Absolute Error\")\n",
        "       \n",
        "    return indexes, Errors"
      ]
    },
    {
      "cell_type": "code",
      "execution_count": null,
      "id": "4e1c8944",
      "metadata": {
        "id": "4e1c8944",
        "outputId": "af4db0b3-abc1-4dd9-acf3-69499d5e560d"
      },
      "outputs": [
        {
          "name": "stdout",
          "output_type": "stream",
          "text": [
            "Enter first guess interval value: 0\n",
            "Enter 2nd guess interval value: 1\n",
            "Enter maximum number of iterations: 100\n",
            "Enter the maximum tolerance 0.00000001\n",
            "iterration:  1\n",
            "a:  0.0 , it's value:  -1.0\n",
            "b:  1.0 , it's value:  0.45969769413186023\n",
            "p:  0.5 , it's value:  -0.17047578070382519\n",
            "*************\n",
            "iterration:  2\n",
            "a:  0.5 , it's value:  -0.17047578070382519\n",
            "b:  1.0 , it's value:  0.45969769413186023\n",
            "Error:  0.3048123156144429\n",
            "p:  0.75 , it's value:  0.1343365349106177\n",
            "*************\n",
            "iterration:  3\n",
            "a:  0.5 , it's value:  -0.17047578070382519\n",
            "b:  0.75 , it's value:  0.1343365349106177\n",
            "Error:  0.15473023937374075\n",
            "p:  0.625 , it's value:  -0.020393704463123052\n",
            "*************\n",
            "iterration:  4\n",
            "a:  0.625 , it's value:  -0.020393704463123052\n",
            "b:  0.75 , it's value:  0.1343365349106177\n",
            "Error:  0.0767149558995015\n",
            "p:  0.6875 , it's value:  0.05632125143637845\n",
            "*************\n",
            "iterration:  5\n",
            "a:  0.625 , it's value:  -0.020393704463123052\n",
            "b:  0.6875 , it's value:  0.05632125143637845\n",
            "Error:  0.038514523812574475\n",
            "p:  0.65625 , it's value:  0.017806727623803975\n",
            "*************\n",
            "iterration:  6\n",
            "a:  0.625 , it's value:  -0.020393704463123052\n",
            "b:  0.65625 , it's value:  0.017806727623803975\n",
            "Error:  0.01913855204311632\n",
            "p:  0.640625 , it's value:  -0.001331824419312344\n",
            "*************\n",
            "iterration:  7\n",
            "a:  0.640625 , it's value:  -0.001331824419312344\n",
            "b:  0.65625 , it's value:  0.017806727623803975\n",
            "Error:  0.009559564698164436\n",
            "p:  0.6484375 , it's value:  0.008227740278852091\n",
            "*************\n",
            "iterration:  8\n",
            "a:  0.640625 , it's value:  -0.001331824419312344\n",
            "b:  0.6484375 , it's value:  0.008227740278852091\n",
            "Error:  0.004782195021244995\n",
            "p:  0.64453125 , it's value:  0.0034455452576070966\n",
            "*************\n",
            "iterration:  9\n",
            "a:  0.640625 , it's value:  -0.001331824419312344\n",
            "b:  0.64453125 , it's value:  0.0034455452576070966\n",
            "Error:  0.0023892860465487553\n",
            "p:  0.642578125 , it's value:  0.0010562592110583413\n",
            "*************\n",
            "iterration:  10\n",
            "a:  0.640625 , it's value:  -0.001331824419312344\n",
            "b:  0.642578125 , it's value:  0.0010562592110583413\n",
            "Error:  0.0011941918680876684\n",
            "p:  0.6416015625 , it's value:  -0.0001379326570293271\n",
            "*************\n",
            "iterration:  11\n",
            "a:  0.6416015625 , it's value:  -0.0001379326570293271\n",
            "b:  0.642578125 , it's value:  0.0010562592110583413\n",
            "Error:  0.0005970583894929771\n",
            "p:  0.64208984375 , it's value:  0.00045912573246364996\n",
            "*************\n",
            "iterration:  12\n",
            "a:  0.6416015625 , it's value:  -0.0001379326570293271\n",
            "b:  0.64208984375 , it's value:  0.00045912573246364996\n",
            "Error:  0.0002985385769801452\n",
            "p:  0.641845703125 , it's value:  0.00016058715548350477\n",
            "*************\n",
            "iterration:  13\n",
            "a:  0.6416015625 , it's value:  -0.0001379326570293271\n",
            "b:  0.641845703125 , it's value:  0.00016058715548350477\n",
            "Error:  0.00014926225132572135\n",
            "p:  0.6417236328125 , it's value:  1.1324904157783422e-05\n",
            "*************\n",
            "iterration:  14\n",
            "a:  0.6416015625 , it's value:  -0.0001379326570293271\n",
            "b:  0.6417236328125 , it's value:  1.1324904157783422e-05\n",
            "Error:  7.462936679980547e-05\n",
            "p:  0.64166259765625 , it's value:  -6.330446264202205e-05\n",
            "*************\n",
            "iterration:  15\n",
            "a:  0.64166259765625 , it's value:  -6.330446264202205e-05\n",
            "b:  0.6417236328125 , it's value:  1.1324904157783422e-05\n",
            "Error:  3.731453684063801e-05\n",
            "p:  0.641693115234375 , it's value:  -2.598992580138404e-05\n",
            "*************\n",
            "iterration:  16\n",
            "a:  0.641693115234375 , it's value:  -2.598992580138404e-05\n",
            "b:  0.6417236328125 , it's value:  1.1324904157783422e-05\n",
            "Error:  1.8657378338837738e-05\n",
            "p:  0.6417083740234375 , it's value:  -7.332547462546302e-06\n",
            "*************\n",
            "iterration:  17\n",
            "a:  0.6417083740234375 , it's value:  -7.332547462546302e-06\n",
            "b:  0.6417236328125 , it's value:  1.1324904157783422e-05\n",
            "Error:  9.328716649825708e-06\n",
            "p:  0.6417160034179688 , it's value:  1.9961691872794063e-06\n",
            "*************\n",
            "iterration:  18\n",
            "a:  0.6417083740234375 , it's value:  -7.332547462546302e-06\n",
            "b:  0.6417160034179688 , it's value:  1.9961691872794063e-06\n",
            "Error:  4.664360614969887e-06\n",
            "p:  0.6417121887207031 , it's value:  -2.6681914276904806e-06\n",
            "*************\n",
            "iterration:  19\n",
            "a:  0.6417121887207031 , it's value:  -2.6681914276904806e-06\n",
            "b:  0.6417160034179688 , it's value:  1.9961691872794063e-06\n",
            "Error:  2.3321797348874185e-06\n",
            "p:  0.6417140960693359 , it's value:  -3.360116928030621e-07\n",
            "*************\n",
            "iterration:  20\n",
            "a:  0.6417140960693359 , it's value:  -3.360116928030621e-07\n",
            "b:  0.6417160034179688 , it's value:  1.9961691872794063e-06\n",
            "Error:  1.1660902969889975e-06\n",
            "p:  0.6417150497436523 , it's value:  8.300786041859354e-07\n",
            "*************\n",
            "iterration:  21\n",
            "a:  0.6417140960693359 , it's value:  -3.360116928030621e-07\n",
            "b:  0.6417150497436523 , it's value:  8.300786041859354e-07\n",
            "Error:  5.830451842436801e-07\n",
            "p:  0.6417145729064941 , it's value:  2.4703341994225525e-07\n",
            "*************\n",
            "iterration:  22\n",
            "a:  0.6417140960693359 , it's value:  -3.360116928030621e-07\n",
            "b:  0.6417145729064941 , it's value:  2.4703341994225525e-07\n",
            "Error:  2.91522565309954e-07\n",
            "p:  0.641714334487915 , it's value:  -4.448914536769877e-08\n",
            "*************\n",
            "iterration:  23\n",
            "a:  0.641714334487915 , it's value:  -4.448914536769877e-08\n",
            "b:  0.6417145729064941 , it's value:  2.4703341994225525e-07\n",
            "Error:  1.457612804900421e-07\n",
            "p:  0.6417144536972046 , it's value:  1.0127213512234334e-07\n",
            "*************\n",
            "iterration:  24\n",
            "a:  0.641714334487915 , it's value:  -4.448914536769877e-08\n",
            "b:  0.6417144536972046 , it's value:  1.0127213512234334e-07\n",
            "Error:  7.288064085564372e-08\n",
            "p:  0.6417143940925598 , it's value:  2.8391494266699624e-08\n",
            "*************\n",
            "iterration:  25\n",
            "a:  0.641714334487915 , it's value:  -4.448914536769877e-08\n",
            "b:  0.6417143940925598 , it's value:  2.8391494266699624e-08\n",
            "Error:  3.644031998373265e-08\n",
            "p:  0.6417143642902374 , it's value:  -8.048825717033026e-09\n",
            "*************\n",
            "iterration:  26\n",
            "a:  0.6417143642902374 , it's value:  -8.048825717033026e-09\n",
            "b:  0.6417143940925598 , it's value:  2.8391494266699624e-08\n",
            "Error:  1.8220160047377476e-08\n",
            "p:  0.6417143791913986 , it's value:  1.017133433034445e-08\n",
            "*************\n",
            "iterration:  27\n",
            "a:  0.6417143642902374 , it's value:  -8.048825717033026e-09\n",
            "b:  0.6417143791913986 , it's value:  1.017133433034445e-08\n",
            "Error:  9.110080023688738e-09\n",
            "p:  0.641714371740818 , it's value:  1.0612543066557123e-09\n",
            "*************\n",
            "0.641714371740818\n",
            "The value is converged!, which is:  1.0612543066557123e-09\n"
          ]
        },
        {
          "data": {
            "image/png": "[encoded data removed]",
            "text/plain": [
              "<Figure size 432x288 with 1 Axes>"
            ]
          },
          "metadata": {
            "needs_background": "light"
          },
          "output_type": "display_data"
        }
      ],
      "source": [
        "a = float(input(\"Enter first guess interval value: \"))\n",
        "b = float(input(\"Enter 2nd guess interval value: \"))\n",
        "iterations = int(input(\"Enter maximum number of iterations: \"))\n",
        "tolerance = float(input(\"Enter the maximum tolerance \"))\n",
        "\n",
        "indexes_B , Errors_B = BisectionMethod(a,b,iterations, tolerance)"
      ]
    },
    {
      "cell_type": "markdown",
      "id": "3a1d2eed",
      "metadata": {
        "id": "3a1d2eed"
      },
      "source": [
        "# False Position Method"
      ]
    },
    {
      "cell_type": "code",
      "execution_count": null,
      "id": "bd4595c3",
      "metadata": {
        "id": "bd4595c3"
      },
      "outputs": [],
      "source": [
        "#declare function\n",
        "def f(x):\n",
        "    #return 2*(x**3)-(x**2)+(x)-1\n",
        "    return math.sqrt(x) - math.cos(x)"
      ]
    },
    {
      "cell_type": "code",
      "execution_count": null,
      "id": "a3121c7d",
      "metadata": {
        "id": "a3121c7d"
      },
      "outputs": [],
      "source": [
        "#finding c\n",
        "def calculate_c(a,b):\n",
        "    return b - (f(b)*(b-a))/(f(b)-f(a))"
      ]
    },
    {
      "cell_type": "code",
      "execution_count": null,
      "id": "39a197bb",
      "metadata": {
        "id": "39a197bb"
      },
      "outputs": [],
      "source": [
        "def FalsePositionMethod(a,b,iterations, tolerance):\n",
        "    previous = 10000\n",
        "    indexes = []\n",
        "    Errors = []\n",
        "    Error = -1\n",
        "\n",
        "    for i in range(iterations):\n",
        "        \n",
        "        print(\"iterration: \", i+1)\n",
        "        value1 = f(a)\n",
        "        value2 = f(b)\n",
        "    \n",
        "        print(\"a: \", a, \",  it's value is: \", value1)\n",
        "        print(\"b: \", b, \",  it's value is: \", value2)\n",
        "        \n",
        "        c = calculate_c(a,b)\n",
        "    \n",
        "    \n",
        "        if(i != 0):\n",
        "            previous = value3\n",
        "            Error = abs(previous - f(c))\n",
        "            Errors.append(Error)\n",
        "            indexes.append(i+1)\n",
        "            print(\"Error: \", Error)\n",
        "        \n",
        "       \n",
        "    \n",
        "        value3 = f(c)\n",
        "        print(\"c: \", c, \",  it's value is: \", value3)\n",
        "    \n",
        "   \n",
        "        print(\"*************\")\n",
        "    \n",
        "    \n",
        "        if(value1 < 0 and value3 >0):\n",
        "            b= c\n",
        "        elif(value1 < 0 and value3 < 0):\n",
        "            a = c\n",
        "        elif(value2 < 0 and value3 > 0):\n",
        "            a = b\n",
        "            b = c\n",
        "        elif(value2 < 0 and value3 < 0):\n",
        "            if(value2 < value3):\n",
        "                b = c\n",
        "                \n",
        "        if(i != 0):   \n",
        "            if(Error <= tolerance):\n",
        "                print(\"The value is converged!, which is: \", value3)\n",
        "                break\n",
        "   \n",
        "    plt.plot(indexes, Errors)\n",
        "    plt.xlabel(\"Number of Iterations\")\n",
        "    plt.ylabel(\"Absolute Error\")\n",
        "       \n",
        "    return indexes, Errors\n",
        "       \n",
        "    "
      ]
    },
    {
      "cell_type": "code",
      "execution_count": null,
      "id": "ab531a2d",
      "metadata": {
        "id": "ab531a2d",
        "outputId": "c4f34703-7236-4232-cbec-bc2313458438"
      },
      "outputs": [
        {
          "name": "stdout",
          "output_type": "stream",
          "text": [
            "Enter first guess interval value: 0\n",
            "Enter 2nd guess interval value: 1\n",
            "Enter maximum number of iterations: 100\n",
            "Enter the maximum tolerance 0.00000001\n",
            "iterration:  1\n",
            "a:  0.0 ,  it's value is:  -1.0\n",
            "b:  1.0 ,  it's value is:  0.45969769413186023\n",
            "c:  0.6850733573260451 ,  it's value is:  0.053318949649390324\n",
            "*************\n",
            "iterration:  2\n",
            "a:  0.0 ,  it's value is:  -1.0\n",
            "b:  0.6850733573260451 ,  it's value is:  0.053318949649390324\n",
            "Error:  0.042692955596734916\n",
            "c:  0.6503949801283646 ,  it's value is:  0.010625994052655408\n",
            "*************\n",
            "iterration:  3\n",
            "a:  0.0 ,  it's value is:  -1.0\n",
            "b:  0.6503949801283646 ,  it's value is:  0.010625994052655408\n",
            "Error:  0.008372961456609151\n",
            "c:  0.6435565520339049 ,  it's value is:  0.002253032596046256\n",
            "*************\n",
            "iterration:  4\n",
            "a:  0.0 ,  it's value is:  -1.0\n",
            "b:  0.6435565520339049 ,  it's value is:  0.002253032596046256\n",
            "Error:  0.0017694328216899535\n",
            "c:  0.6421098575945019 ,  it's value is:  0.0004835997743563025\n",
            "*************\n",
            "iterration:  5\n",
            "a:  0.0 ,  it's value is:  -1.0\n",
            "b:  0.6421098575945019 ,  it's value is:  0.0004835997743563025\n",
            "Error:  0.0003795285000954829\n",
            "c:  0.6417994835090949 ,  it's value is:  0.00010407127426081964\n",
            "*************\n",
            "iterration:  6\n",
            "a:  0.0 ,  it's value is:  -1.0\n",
            "b:  0.6417994835090949 ,  it's value is:  0.00010407127426081964\n",
            "Error:  8.166254199615253e-05\n",
            "c:  0.641732697569524 ,  it's value is:  2.240873226466711e-05\n",
            "*************\n",
            "iterration:  7\n",
            "a:  0.0 ,  it's value is:  -1.0\n",
            "b:  0.641732697569524 ,  it's value is:  2.240873226466711e-05\n",
            "Error:  1.7583083607775052e-05\n",
            "c:  0.6417183174755584 ,  it's value is:  4.8256486568920565e-06\n",
            "*************\n",
            "iterration:  8\n",
            "a:  0.0 ,  it's value is:  -1.0\n",
            "b:  0.6417183174755584 ,  it's value is:  4.8256486568920565e-06\n",
            "Error:  3.786433899088948e-06\n",
            "c:  0.6417152207833652 ,  it's value is:  1.0392147578031086e-06\n",
            "*************\n",
            "iterration:  9\n",
            "a:  0.0 ,  it's value is:  -1.0\n",
            "b:  0.6417152207833652 ,  it's value is:  1.0392147578031086e-06\n",
            "Error:  8.154161796891657e-07\n",
            "c:  0.6417145539041305 ,  it's value is:  2.2379857811394288e-07\n",
            "*************\n",
            "iterration:  10\n",
            "a:  0.0 ,  it's value is:  -1.0\n",
            "b:  0.6417145539041305 ,  it's value is:  2.2379857811394288e-07\n",
            "Error:  1.756027042665309e-07\n",
            "c:  0.6417144102893578 ,  it's value is:  4.8195873847411974e-08\n",
            "*************\n",
            "iterration:  11\n",
            "a:  0.0 ,  it's value is:  -1.0\n",
            "b:  0.6417144102893578 ,  it's value is:  4.8195873847411974e-08\n",
            "Error:  3.7816706655036114e-08\n",
            "c:  0.6417143793613725 ,  it's value is:  1.037916719237586e-08\n",
            "*************\n",
            "iterration:  12\n",
            "a:  0.0 ,  it's value is:  -1.0\n",
            "b:  0.6417143793613725 ,  it's value is:  1.037916719237586e-08\n",
            "Error:  8.143973384555636e-09\n",
            "c:  0.6417143727009118 ,  it's value is:  2.235193807820224e-09\n",
            "*************\n",
            "The value is converged!, which is:  2.235193807820224e-09\n"
          ]
        },
        {
          "data": {
            "image/png": "[encoded data removed]",
            "text/plain": [
              "<Figure size 432x288 with 1 Axes>"
            ]
          },
          "metadata": {
            "needs_background": "light"
          },
          "output_type": "display_data"
        }
      ],
      "source": [
        "a = float(input(\"Enter first guess interval value: \"))\n",
        "b = float(input(\"Enter 2nd guess interval value: \"))\n",
        "iterations = int(input(\"Enter maximum number of iterations: \"))\n",
        "tolerance = float(input(\"Enter the maximum tolerance \"))\n",
        "\n",
        "indexes_F , Errors_F = FalsePositionMethod(a,b,iterations, tolerance)"
      ]
    },
    {
      "cell_type": "markdown",
      "id": "4bbf64b2",
      "metadata": {
        "id": "4bbf64b2"
      },
      "source": [
        "# Secant Method"
      ]
    },
    {
      "cell_type": "code",
      "execution_count": null,
      "id": "834223d5",
      "metadata": {
        "id": "834223d5"
      },
      "outputs": [],
      "source": [
        "#function \n",
        "def function(x):\n",
        "    return math.sqrt(x) - math.cos(x)"
      ]
    },
    {
      "cell_type": "code",
      "execution_count": null,
      "id": "d35ce0d8",
      "metadata": {
        "id": "d35ce0d8"
      },
      "outputs": [],
      "source": [
        "#function for finding the secant\n",
        "def secant(x0, x1):\n",
        "    return x1 - (function(x1)*(x1-x0))/(function(x1)-function(x0))"
      ]
    },
    {
      "cell_type": "code",
      "execution_count": null,
      "id": "62122b04",
      "metadata": {
        "id": "62122b04"
      },
      "outputs": [],
      "source": [
        "def SecantMethod(x0,x1, iterations, tolerance):\n",
        "    previous = 10000\n",
        "    indexes = []\n",
        "    Errors = []\n",
        "    Error = -1\n",
        "\n",
        "    for i in range(iterations):\n",
        "        \n",
        "        print(\"iterration: \", i+1)\n",
        "        value1 = function(x0)\n",
        "        value2 = function(x1)\n",
        "    \n",
        "        print(\"x_n-1: \", x0, \",  it's value is: \", value1)\n",
        "        print(\"x_n: \", x1, \",  it's value is: \", value2)\n",
        "        \n",
        "        x2 = secant(x0,x1)\n",
        "    \n",
        "    \n",
        "        if(i != 0):\n",
        "            previous = value3\n",
        "            Error = abs(previous - function(x2))\n",
        "            Errors.append(Error)\n",
        "            indexes.append(i+1)\n",
        "            print(\"Error: \", Error)\n",
        "        \n",
        "       \n",
        "    \n",
        "        value3 = function(x2)\n",
        "        print(\"x_n+1: \", x2, \",  it's value is: \", value3)\n",
        "    \n",
        "   \n",
        "        print(\"*************\")\n",
        "        \n",
        "        x0 = x1\n",
        "        x1 = x2\n",
        "\n",
        "                \n",
        "        if(i != 0):   \n",
        "            if(Error <= tolerance):\n",
        "                print(\"The value is converged!, which is: \", value3)\n",
        "                break\n",
        "   \n",
        "    plt.plot(indexes, Errors)\n",
        "    plt.xlabel(\"Number of Iterations\")\n",
        "    plt.ylabel(\"Absolute Error\")\n",
        "    \n",
        "    \n",
        "    return indexes, Errors"
      ]
    },
    {
      "cell_type": "code",
      "execution_count": null,
      "id": "42d57de4",
      "metadata": {
        "id": "42d57de4",
        "outputId": "7a576c20-8dd2-45bd-a0a4-9fb4494c5ae5"
      },
      "outputs": [
        {
          "name": "stdout",
          "output_type": "stream",
          "text": [
            "Enter first guess interval value: 0\n",
            "Enter 2nd guess interval value: 1\n",
            "Enter maximum number of iterations: 100\n",
            "Enter the maximum tolerance 0.00000001\n",
            "iterration:  1\n",
            "x_n-1:  0.0 ,  it's value is:  -1.0\n",
            "x_n:  1.0 ,  it's value is:  0.45969769413186023\n",
            "x_n+1:  0.6850733573260451 ,  it's value is:  0.053318949649390324\n",
            "*************\n",
            "iterration:  2\n",
            "x_n-1:  1.0 ,  it's value is:  0.45969769413186023\n",
            "x_n:  0.6850733573260451 ,  it's value is:  0.053318949649390324\n",
            "Error:  0.050825120201594354\n",
            "x_n+1:  0.643753386653444 ,  it's value is:  0.00249382944779597\n",
            "*************\n",
            "iterration:  3\n",
            "x_n-1:  0.6850733573260451 ,  it's value is:  0.053318949649390324\n",
            "x_n:  0.643753386653444 ,  it's value is:  0.00249382944779597\n",
            "Error:  0.0024796771986667077\n",
            "x_n+1:  0.641725945119874 ,  it's value is:  1.4152249129262273e-05\n",
            "*************\n",
            "iterration:  4\n",
            "x_n-1:  0.643753386653444 ,  it's value is:  0.00249382944779597\n",
            "x_n:  0.641725945119874 ,  it's value is:  1.4152249129262273e-05\n",
            "Error:  1.4148531790603158e-05\n",
            "x_n+1:  0.641714373913068 ,  it's value is:  3.7173386591149438e-09\n",
            "*************\n",
            "iterration:  5\n",
            "x_n-1:  0.641725945119874 ,  it's value is:  1.4152249129262273e-05\n",
            "x_n:  0.641714373913068 ,  it's value is:  3.7173386591149438e-09\n",
            "Error:  3.7173331079998206e-09\n",
            "x_n+1:  0.6417143708728872 ,  it's value is:  5.551115123125783e-15\n",
            "*************\n",
            "The value is converged!, which is:  5.551115123125783e-15\n"
          ]
        },
        {
          "data": {
            "image/png": "[encoded data removed]",
            "text/plain": [
              "<Figure size 432x288 with 1 Axes>"
            ]
          },
          "metadata": {
            "needs_background": "light"
          },
          "output_type": "display_data"
        }
      ],
      "source": [
        "x0 = float(input(\"Enter first guess interval value: \"))\n",
        "x1 = float(input(\"Enter 2nd guess interval value: \"))\n",
        "iterations = int(input(\"Enter maximum number of iterations: \"))\n",
        "tolerance = float(input(\"Enter the maximum tolerance \"))\n",
        "\n",
        "indexes_S , Errors_S = SecantMethod(x0,x1, iterations, tolerance)"
      ]
    },
    {
      "cell_type": "markdown",
      "id": "c2555cb2",
      "metadata": {
        "id": "c2555cb2"
      },
      "source": [
        "# Newton Method"
      ]
    },
    {
      "cell_type": "code",
      "execution_count": null,
      "id": "c10db2aa",
      "metadata": {
        "id": "c10db2aa"
      },
      "outputs": [],
      "source": [
        "from sympy import *"
      ]
    },
    {
      "cell_type": "code",
      "execution_count": null,
      "id": "a0c4200b",
      "metadata": {
        "id": "a0c4200b"
      },
      "outputs": [],
      "source": [
        "#function \n",
        "x = Symbol('x')\n",
        "f = sqrt(x) - cos(x)"
      ]
    },
    {
      "cell_type": "code",
      "execution_count": null,
      "id": "32a9bc6e",
      "metadata": {
        "id": "32a9bc6e"
      },
      "outputs": [],
      "source": [
        "def derivative(input):\n",
        "    deriv= Derivative(f, x)\n",
        "    value = deriv.doit().subs({x:input})\n",
        "    return float(value)"
      ]
    },
    {
      "cell_type": "code",
      "execution_count": null,
      "id": "7aec251a",
      "metadata": {
        "id": "7aec251a"
      },
      "outputs": [],
      "source": [
        "def func(input):\n",
        "    value = f.doit().subs({x:input})\n",
        "    return float(value)"
      ]
    },
    {
      "cell_type": "code",
      "execution_count": null,
      "id": "df9ed3b0",
      "metadata": {
        "id": "df9ed3b0"
      },
      "outputs": [],
      "source": [
        "def NewtonMethod(x0, iterations, tolerance):\n",
        "    previous = 10000\n",
        "    indexes = []\n",
        "    Errors = []\n",
        "    Error = -1\n",
        "\n",
        "    for i in range(iterations):\n",
        "        \n",
        "        print(\"iterration: \", i+1)\n",
        "        value1 = func(x0)\n",
        "    \n",
        "        print(\"x_n: \", x0, \",  it's value is: \", value1)\n",
        "        \n",
        "        try:\n",
        "            dx = derivative(x0)\n",
        "        except:\n",
        "            print(\"The derivate doesn't exist\")\n",
        "            break\n",
        "    \n",
        "\n",
        "    \n",
        "        x1 = x0 - (func(x0)/dx)\n",
        "    \n",
        "    \n",
        "        if(i != 0):\n",
        "            previous = value2\n",
        "            Error = abs(previous - func(x1))\n",
        "            Errors.append(Error)\n",
        "            indexes.append(i+1)\n",
        "            print(\"Error: \", Error)\n",
        "        \n",
        "       \n",
        "    \n",
        "        value2 = func(x1)\n",
        "        print(\"x_n+1: \", x1, \",  it's value is: \", value2)\n",
        "    \n",
        "   \n",
        "        print(\"*************\")\n",
        "        \n",
        "        x0 = x1\n",
        "\n",
        "                \n",
        "        if(i != 0):   \n",
        "            if(Error <= tolerance):\n",
        "                print(\"The value is converged!, which is: \", value2)\n",
        "                break\n",
        "   \n",
        "    plt.plot(indexes, Errors)\n",
        "    plt.xlabel(\"Number of Iterations\")\n",
        "    plt.ylabel(\"Absolute Error\")\n",
        "    \n",
        "    \n",
        "    return indexes, Errors"
      ]
    },
    {
      "cell_type": "code",
      "execution_count": null,
      "id": "0bbdb075",
      "metadata": {
        "id": "0bbdb075",
        "outputId": "fc50170d-65cf-49e9-9b28-5ebb5afc0490"
      },
      "outputs": [
        {
          "name": "stdout",
          "output_type": "stream",
          "text": [
            "Enter first guess value: 0.5\n",
            "Enter maximum number of iterations: 100\n",
            "Enter the maximum tolerance 0.00000001\n",
            "iterration:  1\n",
            "x_n:  0.5 ,  it's value is:  -0.17047578070382519\n",
            "x_n+1:  0.6436756318057053 ,  it's value is:  0.002398706901037495\n",
            "*************\n",
            "iterration:  2\n",
            "x_n:  0.6436756318057053 ,  it's value is:  0.002398706901037495\n",
            "Error:  0.002398100523711144\n",
            "x_n+1:  0.641714866792004 ,  it's value is:  6.063773263509376e-07\n",
            "*************\n",
            "iterration:  3\n",
            "x_n:  0.641714866792004 ,  it's value is:  6.063773263509376e-07\n",
            "Error:  6.06377287604154e-07\n",
            "x_n+1:  0.6417143708729144 ,  it's value is:  3.8746783559417963e-14\n",
            "*************\n",
            "iterration:  4\n",
            "x_n:  0.6417143708729144 ,  it's value is:  3.8746783559417963e-14\n",
            "Error:  3.863576125695545e-14\n",
            "x_n+1:  0.6417143708728827 ,  it's value is:  1.1102230246251565e-16\n",
            "*************\n",
            "The value is converged!, which is:  1.1102230246251565e-16\n"
          ]
        },
        {
          "data": {
            "image/png": "[encoded data removed]",
            "text/plain": [
              "<Figure size 432x288 with 1 Axes>"
            ]
          },
          "metadata": {
            "needs_background": "light"
          },
          "output_type": "display_data"
        }
      ],
      "source": [
        "x0 = float(input(\"Enter first guess value: \"))\n",
        "iterations = int(input(\"Enter maximum number of iterations: \"))\n",
        "tolerance = float(input(\"Enter the maximum tolerance \"))\n",
        "\n",
        "indexes_N , Errors_N = NewtonMethod(x0,iterations,tolerance)"
      ]
    },
    {
      "cell_type": "markdown",
      "id": "d907b8c8",
      "metadata": {
        "id": "d907b8c8"
      },
      "source": [
        "# Comparisons"
      ]
    },
    {
      "cell_type": "markdown",
      "id": "3ffdc49a",
      "metadata": {
        "id": "3ffdc49a"
      },
      "source": [
        "## a) Algebraic Function"
      ]
    },
    {
      "cell_type": "code",
      "execution_count": null,
      "id": "6520f60e",
      "metadata": {
        "id": "6520f60e",
        "outputId": "f4e4a85f-59f5-44d2-cb3c-08de1912f3f5"
      },
      "outputs": [
        {
          "data": {
            "text/plain": [
              "<function matplotlib.pyplot.show(close=None, block=None)>"
            ]
          },
          "execution_count": 61,
          "metadata": {},
          "output_type": "execute_result"
        },
        {
          "data": {
            "image/png": "[encoded data removed]",
            "text/plain": [
              "<Figure size 432x288 with 1 Axes>"
            ]
          },
          "metadata": {
            "needs_background": "light"
          },
          "output_type": "display_data"
        }
      ],
      "source": [
        "plt.plot(indexes_B , Errors_B, color='orange', label=\"Bisection Method\")\n",
        "plt.plot(indexes_F , Errors_F, color='red', label=\"False Position Method\")\n",
        "plt.plot(indexes_S , Errors_S, color='blue', label=\"Secant Method\")\n",
        "plt.plot(indexes_N , Errors_N, color='green', label=\"Newton Method\")\n",
        "plt.xlabel(\"Number of Iterations\")\n",
        "plt.ylabel(\"Absolute Error\")\n",
        "plt.legend(title='Root Finding methods:')\n",
        "plt.title('Comparison between root finding techniques')\n",
        "plt.show"
      ]
    },
    {
      "cell_type": "markdown",
      "id": "6ffaac20",
      "metadata": {
        "id": "6ffaac20"
      },
      "source": [
        "## b) Transcendental Function "
      ]
    },
    {
      "cell_type": "code",
      "execution_count": null,
      "id": "38f0aa84",
      "metadata": {
        "id": "38f0aa84",
        "outputId": "c30fb597-c5b0-4ddd-b3ca-374034b5292e"
      },
      "outputs": [
        {
          "data": {
            "text/plain": [
              "<function matplotlib.pyplot.show(close=None, block=None)>"
            ]
          },
          "execution_count": 82,
          "metadata": {},
          "output_type": "execute_result"
        },
        {
          "data": {
            "image/png": "[encoded data removed]",
            "text/plain": [
              "<Figure size 432x288 with 1 Axes>"
            ]
          },
          "metadata": {
            "needs_background": "light"
          },
          "output_type": "display_data"
        }
      ],
      "source": [
        "plt.plot(indexes_B , Errors_B, color='orange', label=\"Bisection Method\")\n",
        "plt.plot(indexes_F , Errors_F, color='red', label=\"False Position Method\")\n",
        "plt.plot(indexes_S , Errors_S, color='blue', label=\"Secant Method\")\n",
        "plt.plot(indexes_N , Errors_N, color='green', label=\"Newton Method\")\n",
        "plt.xlabel(\"Number of Iterations\")\n",
        "plt.ylabel(\"Absolute Error\")\n",
        "plt.legend(title='Root Finding methods:')\n",
        "plt.title('Comparison between root finding techniques')\n",
        "plt.show"
      ]
    },
    {
      "cell_type": "code",
      "execution_count": null,
      "id": "a63864d1",
      "metadata": {
        "id": "a63864d1"
      },
      "outputs": [],
      "source": [
        ""
      ]
    }
  ],
  "metadata": {
    "kernelspec": {
      "display_name": "Python 3",
      "language": "python",
      "name": "python3"
    },
    "language_info": {
      "codemirror_mode": {
        "name": "ipython",
        "version": 3
      },
      "file_extension": ".py",
      "mimetype": "text/x-python",
      "name": "python",
      "nbconvert_exporter": "python",
      "pygments_lexer": "ipython3",
      "version": "3.8.5"
    },
    "colab": {
      "name": "NM_assignment3.ipynb",
      "provenance": [],
      "include_colab_link": true
    }
  },
  "nbformat": 4,
  "nbformat_minor": 5
}